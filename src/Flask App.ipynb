{
 "cells": [
  {
   "cell_type": "code",
   "execution_count": 11,
   "id": "cce56e5e",
   "metadata": {},
   "outputs": [
    {
     "data": {
      "text/html": [
       "<h3>Please click here to open the application: <a href=\"http://localhost:5000\" target=\"_blank\">http://localhost:5000</a></h3>"
      ],
      "text/plain": [
       "<IPython.core.display.HTML object>"
      ]
     },
     "metadata": {},
     "output_type": "display_data"
    },
    {
     "name": "stdout",
     "output_type": "stream",
     "text": [
      " * Serving Flask app '__main__'\n",
      " * Debug mode: on\n"
     ]
    },
    {
     "name": "stderr",
     "output_type": "stream",
     "text": [
      "WARNING: This is a development server. Do not use it in a production deployment. Use a production WSGI server instead.\n",
      " * Running on http://127.0.0.1:5000\n",
      "Press CTRL+C to quit\n",
      "127.0.0.1 - - [31/Oct/2024 19:58:35] \"GET / HTTP/1.1\" 200 -\n"
     ]
    },
    {
     "name": "stdout",
     "output_type": "stream",
     "text": [
      "1/1 [==============================] - 5s 5s/step\n"
     ]
    },
    {
     "name": "stderr",
     "output_type": "stream",
     "text": [
      "127.0.0.1 - - [31/Oct/2024 19:59:25] \"POST /predict HTTP/1.1\" 200 -\n"
     ]
    },
    {
     "name": "stdout",
     "output_type": "stream",
     "text": [
      "1/1 [==============================] - 0s 103ms/step\n"
     ]
    },
    {
     "name": "stderr",
     "output_type": "stream",
     "text": [
      "127.0.0.1 - - [31/Oct/2024 19:59:36] \"POST /predict HTTP/1.1\" 200 -\n"
     ]
    },
    {
     "name": "stdout",
     "output_type": "stream",
     "text": [
      "1/1 [==============================] - 0s 118ms/step\n"
     ]
    },
    {
     "name": "stderr",
     "output_type": "stream",
     "text": [
      "127.0.0.1 - - [31/Oct/2024 20:00:09] \"POST /predict HTTP/1.1\" 200 -\n"
     ]
    },
    {
     "name": "stdout",
     "output_type": "stream",
     "text": [
      "1/1 [==============================] - 0s 100ms/step\n"
     ]
    },
    {
     "name": "stderr",
     "output_type": "stream",
     "text": [
      "127.0.0.1 - - [31/Oct/2024 20:00:26] \"POST /predict HTTP/1.1\" 200 -\n"
     ]
    },
    {
     "name": "stdout",
     "output_type": "stream",
     "text": [
      "1/1 [==============================] - 0s 88ms/step\n"
     ]
    },
    {
     "name": "stderr",
     "output_type": "stream",
     "text": [
      "127.0.0.1 - - [31/Oct/2024 20:00:35] \"POST /predict HTTP/1.1\" 200 -\n"
     ]
    }
   ],
   "source": [
    "from flask import Flask, request, jsonify\n",
    "from flask import render_template\n",
    "from tensorflow.keras.models import load_model\n",
    "from tensorflow.keras.preprocessing import image\n",
    "import numpy as np\n",
    "import os\n",
    "from tensorflow import keras\n",
    "from IPython.display import display, HTML\n",
    "import warnings\n",
    "warnings.filterwarnings('ignore')\n",
    "\n",
    "# Create required directories\n",
    "if not os.path.exists('uploads'):\n",
    "    os.makedirs('uploads')\n",
    "\n",
    "if not os.path.exists('templates'):\n",
    "    os.makedirs('templates')\n",
    "\n",
    "# Create Flask application\n",
    "app = Flask(__name__)\n",
    "\n",
    "# Load the model\n",
    "model = keras.models.load_model(r'C:\\Users\\nikhi\\Desktop\\archive\\lung_cancer_model_fold_1.h5')\n",
    "\n",
    "@app.route('/')\n",
    "def index():\n",
    "    return render_template('index.html')  # This will use the existing index.html from templates folder\n",
    "\n",
    "def preprocess_image(img_path):\n",
    "    img = image.load_img(img_path, target_size=(224, 224))\n",
    "    img_array = image.img_to_array(img)\n",
    "    img_array = np.expand_dims(img_array, axis=0)\n",
    "    img_array = img_array / 255.0\n",
    "    return img_array\n",
    "\n",
    "@app.route('/predict', methods=['POST'])\n",
    "def predict():\n",
    "    if 'file' not in request.files:\n",
    "        return jsonify({'error': 'No file uploaded'}), 400\n",
    "\n",
    "    file = request.files['file']\n",
    "    if file.filename == '':\n",
    "        return jsonify({'error': 'No selected file'}), 400\n",
    "\n",
    "    try:\n",
    "        img_path = os.path.join('uploads', file.filename)\n",
    "        file.save(img_path)\n",
    "        \n",
    "        img_array = preprocess_image(img_path)\n",
    "        predictions = model.predict(img_array)\n",
    "        \n",
    "        # Get the class with highest probability\n",
    "        predicted_class = np.argmax(predictions[0])\n",
    "        \n",
    "        # Map class index to name\n",
    "        class_names = ['Adenocarcinoma', 'Large Cell Carcinoma', 'Normal', 'Squamous Cell Carcinoma']\n",
    "        class_name = class_names[predicted_class]\n",
    "        \n",
    "        # Get probabilities for each class\n",
    "        probabilities = {\n",
    "            'Adenocarcinoma': float(predictions[0][0]),\n",
    "            'Large Cell Carcinoma': float(predictions[0][1]),\n",
    "            'Normal': float(predictions[0][2]),\n",
    "            'Squamous Cell Carcinoma': float(predictions[0][3])\n",
    "        }\n",
    "        \n",
    "        os.remove(img_path)\n",
    "        \n",
    "        return jsonify({\n",
    "            'class_name': class_name,\n",
    "            'confidence': float(predictions[0][predicted_class]),\n",
    "            'probabilities': probabilities\n",
    "        })\n",
    "\n",
    "    except Exception as e:\n",
    "        return jsonify({'error': str(e)}), 500\n",
    "\n",
    "# Display the URL\n",
    "display(HTML(f'<h3>Please click here to open the application: '\n",
    "            f'<a href=\"http://localhost:5000\" target=\"_blank\">http://localhost:5000</a></h3>'))\n",
    "\n",
    "if __name__ == '__main__':\n",
    "    app.run(debug=True, port=5000, use_reloader=False)"
   ]
  }
 ],
 "metadata": {
  "kernelspec": {
   "display_name": "Python 3 (ipykernel)",
   "language": "python",
   "name": "python3"
  },
  "language_info": {
   "codemirror_mode": {
    "name": "ipython",
    "version": 3
   },
   "file_extension": ".py",
   "mimetype": "text/x-python",
   "name": "python",
   "nbconvert_exporter": "python",
   "pygments_lexer": "ipython3",
   "version": "3.9.12"
  }
 },
 "nbformat": 4,
 "nbformat_minor": 5
}
