{
 "cells": [
  {
   "cell_type": "code",
   "execution_count": 1,
   "id": "cce56e5e",
   "metadata": {},
   "outputs": [
    {
     "name": "stderr",
     "output_type": "stream",
     "text": [
      "INFO:__main__:Loading model from: lung_cancer_model_fold_1.h5\n",
      "DEBUG:h5py._conv:Creating converter from 3 to 5\n",
      "INFO:__main__:Model loaded successfully\n"
     ]
    },
    {
     "data": {
      "text/html": [
       "<h3>Please click here to open the application: <a href=\"http://localhost:5000\" target=\"_blank\">http://localhost:5000</a></h3>"
      ],
      "text/plain": [
       "<IPython.core.display.HTML object>"
      ]
     },
     "metadata": {},
     "output_type": "display_data"
    },
    {
     "name": "stdout",
     "output_type": "stream",
     "text": [
      " * Serving Flask app '__main__'\n",
      " * Debug mode: off\n"
     ]
    },
    {
     "name": "stderr",
     "output_type": "stream",
     "text": [
      "INFO:werkzeug:\u001b[31m\u001b[1mWARNING: This is a development server. Do not use it in a production deployment. Use a production WSGI server instead.\u001b[0m\n",
      " * Running on all addresses (0.0.0.0)\n",
      " * Running on http://127.0.0.1:5000\n",
      " * Running on http://192.168.1.34:5000\n",
      "INFO:werkzeug:\u001b[33mPress CTRL+C to quit\u001b[0m\n",
      "INFO:werkzeug:127.0.0.1 - - [01/Nov/2024 00:47:35] \"GET / HTTP/1.1\" 200 -\n",
      "INFO:__main__:Saved uploaded file temporarily as: C:\\Users\\nikhi\\AppData\\Local\\Temp\\temp_image.jpg\n",
      "INFO:__main__:Preprocessing image\n",
      "INFO:__main__:Making prediction\n"
     ]
    },
    {
     "name": "stdout",
     "output_type": "stream",
     "text": [
      "1/1 [==============================] - 2s 2s/step\n"
     ]
    },
    {
     "name": "stderr",
     "output_type": "stream",
     "text": [
      "INFO:__main__:Prediction successful: {'class_name': 'Normal', 'confidence': 0.34740379452705383, 'probabilities': {'Adenocarcinoma': 9.588320972397923e-05, 'Large Cell Carcinoma': 0.3110003173351288, 'Normal': 0.34740379452705383, 'Squamous Cell Carcinoma': 0.3414999842643738}}\n",
      "INFO:__main__:Temporary file cleaned up\n",
      "INFO:werkzeug:127.0.0.1 - - [01/Nov/2024 00:47:42] \"POST /predict HTTP/1.1\" 200 -\n",
      "INFO:__main__:Saved uploaded file temporarily as: C:\\Users\\nikhi\\AppData\\Local\\Temp\\temp_image.jpg\n",
      "INFO:__main__:Preprocessing image\n",
      "INFO:__main__:Making prediction\n"
     ]
    },
    {
     "name": "stdout",
     "output_type": "stream",
     "text": [
      "1/1 [==============================] - 0s 93ms/step\n"
     ]
    },
    {
     "name": "stderr",
     "output_type": "stream",
     "text": [
      "INFO:__main__:Prediction successful: {'class_name': 'Normal', 'confidence': 0.3480483591556549, 'probabilities': {'Adenocarcinoma': 9.589405817678198e-05, 'Large Cell Carcinoma': 0.3111128807067871, 'Normal': 0.3480483591556549, 'Squamous Cell Carcinoma': 0.3407428562641144}}\n",
      "INFO:__main__:Temporary file cleaned up\n",
      "INFO:werkzeug:127.0.0.1 - - [01/Nov/2024 00:47:59] \"POST /predict HTTP/1.1\" 200 -\n"
     ]
    }
   ],
   "source": [
    "from flask import Flask, request, jsonify, render_template\n",
    "from tensorflow.keras.models import load_model\n",
    "from tensorflow.keras.preprocessing import image\n",
    "import numpy as np\n",
    "import os\n",
    "from tensorflow import keras\n",
    "import tempfile\n",
    "import logging\n",
    "import gc\n",
    "\n",
    "# Set up logging\n",
    "logging.basicConfig(level=logging.DEBUG)\n",
    "logger = logging.getLogger(__name__)\n",
    "\n",
    "app = Flask(__name__)\n",
    "\n",
    "# Create uploads directory if it doesn't exist\n",
    "if not os.path.exists('uploads'):\n",
    "    os.makedirs('uploads')\n",
    "\n",
    "try:\n",
    "    # Load model\n",
    "    model_path = 'lung_cancer_model_fold_1.h5'\n",
    "    logger.info(f\"Loading model from: {model_path}\")\n",
    "    model = keras.models.load_model(model_path)\n",
    "    logger.info(\"Model loaded successfully\")\n",
    "except Exception as e:\n",
    "    logger.error(f\"Error loading model: {str(e)}\")\n",
    "    raise\n",
    "\n",
    "def preprocess_image(img_path):\n",
    "    try:\n",
    "        img = image.load_img(img_path, target_size=(224, 224))\n",
    "        img_array = image.img_to_array(img)\n",
    "        img_array = np.expand_dims(img_array, axis=0)\n",
    "        img_array = img_array / 255.0\n",
    "        return img_array\n",
    "    except Exception as e:\n",
    "        logger.error(f\"Error in preprocessing image: {str(e)}\")\n",
    "        raise\n",
    "\n",
    "@app.route('/')\n",
    "def index():\n",
    "    return render_template('index.html')\n",
    "\n",
    "@app.route('/predict', methods=['POST'])\n",
    "def predict():\n",
    "    if 'file' not in request.files:\n",
    "        return jsonify({'error': 'No file uploaded'}), 400\n",
    "\n",
    "    file = request.files['file']\n",
    "    if file.filename == '':\n",
    "        return jsonify({'error': 'No selected file'}), 400\n",
    "\n",
    "    temp_dir = tempfile.gettempdir()\n",
    "    temp_path = os.path.join(temp_dir, 'temp_image.jpg')\n",
    "\n",
    "    try:\n",
    "        # Save and process the file\n",
    "        file.save(temp_path)\n",
    "        logger.info(f\"Saved uploaded file temporarily as: {temp_path}\")\n",
    "\n",
    "        # Preprocess image\n",
    "        logger.info(\"Preprocessing image\")\n",
    "        img_array = preprocess_image(temp_path)\n",
    "\n",
    "        # Make prediction\n",
    "        logger.info(\"Making prediction\")\n",
    "        predictions = model.predict(img_array)\n",
    "        \n",
    "        predicted_class = np.argmax(predictions[0])\n",
    "        class_names = ['Adenocarcinoma', 'Large Cell Carcinoma', 'Normal', 'Squamous Cell Carcinoma']\n",
    "        class_name = class_names[predicted_class]\n",
    "        \n",
    "        # Get probabilities\n",
    "        probabilities = {\n",
    "            'Adenocarcinoma': float(predictions[0][0]),\n",
    "            'Large Cell Carcinoma': float(predictions[0][1]),\n",
    "            'Normal': float(predictions[0][2]),\n",
    "            'Squamous Cell Carcinoma': float(predictions[0][3])\n",
    "        }\n",
    "\n",
    "        # Clear memory\n",
    "        gc.collect()\n",
    "\n",
    "        response = {\n",
    "            'class_name': class_name,\n",
    "            'confidence': float(predictions[0][predicted_class]),\n",
    "            'probabilities': probabilities\n",
    "        }\n",
    "        \n",
    "        logger.info(f\"Prediction successful: {response}\")\n",
    "        return jsonify(response)\n",
    "\n",
    "    except Exception as e:\n",
    "        logger.error(f\"Error during prediction: {str(e)}\")\n",
    "        return jsonify({'error': f\"An error occurred during prediction: {str(e)}\"}), 500\n",
    "\n",
    "    finally:\n",
    "        # Clean up in finally block\n",
    "        try:\n",
    "            if os.path.exists(temp_path):\n",
    "                os.close(os.open(temp_path, os.O_RDONLY))\n",
    "                os.unlink(temp_path)\n",
    "                logger.info(\"Temporary file cleaned up\")\n",
    "        except Exception as e:\n",
    "            logger.error(f\"Error cleaning up temporary file: {str(e)}\")\n",
    "\n",
    "# For Jupyter Notebook\n",
    "from IPython.display import display, HTML\n",
    "display(HTML(f'<h3>Please click here to open the application: '\n",
    "            f'<a href=\"http://localhost:5000\" target=\"_blank\">http://localhost:5000</a></h3>'))\n",
    "\n",
    "if __name__ == '__main__':\n",
    "    app.run(host='0.0.0.0', port=5000, debug=False, use_reloader=False)"
   ]
  }
 ],
 "metadata": {
  "kernelspec": {
   "display_name": "Python 3 (ipykernel)",
   "language": "python",
   "name": "python3"
  },
  "language_info": {
   "codemirror_mode": {
    "name": "ipython",
    "version": 3
   },
   "file_extension": ".py",
   "mimetype": "text/x-python",
   "name": "python",
   "nbconvert_exporter": "python",
   "pygments_lexer": "ipython3",
   "version": "3.9.12"
  }
 },
 "nbformat": 4,
 "nbformat_minor": 5
}
