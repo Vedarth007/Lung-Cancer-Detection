{
 "cells": [
  {
   "cell_type": "code",
   "execution_count": 2,
   "id": "50c1cb81",
   "metadata": {},
   "outputs": [],
   "source": [
    "# Imports and GPU Configuration\n",
    "import tensorflow as tf\n",
    "from tensorflow.keras import layers, models, optimizers, applications, regularizers, callbacks\n",
    "import matplotlib.pyplot as plt\n",
    "import seaborn as sns\n",
    "import numpy as np\n",
    "import pandas as pd\n",
    "import os\n",
    "\n",
    "gpus = tf.config.experimental.list_physical_devices('GPU')\n",
    "if gpus:\n",
    "    try:\n",
    "        for gpu in gpus:\n",
    "            tf.config.experimental.set_memory_growth(gpu, True)\n",
    "    except RuntimeError as e:\n",
    "        print(e)"
   ]
  },
  {
   "cell_type": "code",
   "execution_count": 3,
   "id": "5f28fb62",
   "metadata": {},
   "outputs": [],
   "source": [
    "# File Paths and Data Processing\n",
    "train_folder = r\"C:\\Users\\nikhi\\Desktop\\archive\\dataset\\drive\\MyDrive\\lungcancer\\data\\tfrecords\\train\"\n",
    "test_folder = r\"C:\\Users\\nikhi\\Desktop\\archive\\dataset\\drive\\MyDrive\\lungcancer\\data\\tfrecords\\test\"\n",
    "eval_folder = r\"C:\\Users\\nikhi\\Desktop\\archive\\dataset\\drive\\MyDrive\\lungcancer\\data\\tfrecords\\eval\"\n",
    "\n",
    "def parse_tfrecord_fn(example):\n",
    "    feature_description = {\n",
    "        'image': tf.io.FixedLenFeature([], tf.string),\n",
    "        'label': tf.io.FixedLenFeature([], tf.int64)\n",
    "    }\n",
    "    example = tf.io.parse_single_example(example, feature_description)\n",
    "    image = tf.io.decode_jpeg(example['image'], channels=3)\n",
    "    image = tf.image.resize(image, [224, 224])\n",
    "    image = tf.cast(image, tf.float32) / 255.0\n",
    "    image = tf.image.per_image_standardization(image)\n",
    "    label = tf.cast(example['label'], tf.int32)\n",
    "    return image, label\n",
    "\n",
    "def load_dataset(folder):\n",
    "    tfrecord_files = tf.data.Dataset.list_files(os.path.join(folder, '*.tfrecord'))\n",
    "    dataset = tf.data.TFRecordDataset(tfrecord_files, num_parallel_reads=tf.data.AUTOTUNE)\n",
    "    dataset = dataset.map(parse_tfrecord_fn, num_parallel_calls=tf.data.AUTOTUNE)\n",
    "    return dataset"
   ]
  },
  {
   "cell_type": "code",
   "execution_count": 4,
   "id": "16c46b56",
   "metadata": {},
   "outputs": [],
   "source": [
    "# Data Augmentation and Configuration\n",
    "data_augmentation = tf.keras.Sequential([\n",
    "    layers.RandomFlip(\"horizontal\"),\n",
    "    layers.RandomRotation(0.1),\n",
    "    layers.RandomZoom(0.1),\n",
    "    layers.RandomBrightness(0.1),\n",
    "    layers.RandomContrast(0.1),\n",
    "    layers.GaussianNoise(0.01)\n",
    "], name='data_augmentation')\n",
    "\n",
    "# Load datasets\n",
    "train_dataset = load_dataset(train_folder)\n",
    "test_dataset = load_dataset(test_folder)\n",
    "eval_dataset = load_dataset(eval_folder)\n",
    "\n",
    "# Training Configuration\n",
    "BATCH_SIZE = 32\n",
    "BUFFER_SIZE = 1000\n",
    "EPOCHS = 50\n",
    "INITIAL_LR = 5e-5\n",
    "MIN_LR = 1e-7"
   ]
  },
  {
   "cell_type": "code",
   "execution_count": 5,
   "id": "fbfddf4a",
   "metadata": {
    "scrolled": false
   },
   "outputs": [],
   "source": [
    "# Model Definition\n",
    "def create_model(input_shape=(224, 224, 3), num_classes=4):\n",
    "    base_model = applications.EfficientNetB2(\n",
    "        include_top=False,\n",
    "        weights='imagenet',\n",
    "        input_shape=input_shape\n",
    "    )\n",
    "    base_model.trainable = True\n",
    "    for layer in base_model.layers[:-20]:\n",
    "        layer.trainable = False\n",
    "        \n",
    "    inputs = layers.Input(shape=input_shape)\n",
    "    x = data_augmentation(inputs)\n",
    "    x = base_model(x)\n",
    "    x = layers.GlobalAveragePooling2D()(x)\n",
    "    x = layers.BatchNormalization(momentum=0.95)(x)\n",
    "    x = layers.Dense(512, kernel_regularizer=regularizers.l2(0.001))(x)\n",
    "    x = layers.BatchNormalization(momentum=0.95)(x)\n",
    "    x = layers.Activation('relu')(x)\n",
    "    x = layers.Dropout(0.5)(x)\n",
    "    x = layers.Dense(256, kernel_regularizer=regularizers.l2(0.001))(x)\n",
    "    x = layers.BatchNormalization(momentum=0.95)(x)\n",
    "    x = layers.Activation('relu')(x)\n",
    "    x = layers.Dropout(0.3)(x)\n",
    "    outputs = layers.Dense(num_classes, activation='softmax')(x)\n",
    "    \n",
    "    return models.Model(inputs=inputs, outputs=outputs)"
   ]
  },
  {
   "cell_type": "code",
   "execution_count": 6,
   "id": "cf292e5e",
   "metadata": {
    "scrolled": false
   },
   "outputs": [
    {
     "name": "stderr",
     "output_type": "stream",
     "text": [
      "C:\\Users\\nikhi\\AppData\\Local\\Temp\\ipykernel_15860\\1994755997.py:13: RuntimeWarning: divide by zero encountered in scalar divide\n",
      "  class_weights = {i: total_samples / (len(class_counts) * count) for i, count in enumerate(class_counts)}\n"
     ]
    }
   ],
   "source": [
    "# Load the saved model\n",
    "model = create_model()\n",
    "model.load_weights('lung_cancer_model_fold_1.h5')  # Load your saved model checkpoint\n",
    "\n",
    "# Prepare datasets\n",
    "train_dataset = train_dataset.shuffle(BUFFER_SIZE).batch(BATCH_SIZE).prefetch(tf.data.AUTOTUNE)\n",
    "val_dataset = eval_dataset.batch(BATCH_SIZE).prefetch(tf.data.AUTOTUNE)\n",
    "\n",
    "# Calculate class weights\n",
    "labels = np.array([label.numpy() for _, label in train_dataset.unbatch()])\n",
    "class_counts = np.bincount(labels)\n",
    "total_samples = np.sum(class_counts)\n",
    "class_weights = {i: total_samples / (len(class_counts) * count) for i, count in enumerate(class_counts)}\n",
    "\n",
    "# Compile model\n",
    "optimizer = optimizers.AdamW(\n",
    "    learning_rate=INITIAL_LR,\n",
    "    weight_decay=0.001,\n",
    "    clipnorm=1.0\n",
    ")\n",
    "\n",
    "model.compile(\n",
    "    optimizer=optimizer,\n",
    "    loss='sparse_categorical_crossentropy',\n",
    "    metrics=['accuracy']\n",
    ")"
   ]
  },
  {
   "cell_type": "code",
   "execution_count": 7,
   "id": "50fa87dc",
   "metadata": {},
   "outputs": [
    {
     "name": "stdout",
     "output_type": "stream",
     "text": [
      "Epoch 1/50\n",
      "    288/Unknown - 469s 2s/step - loss: 1.0735 - accuracy: 0.5593\n",
      "Epoch 1: val_loss improved from inf to 1.55566, saving model to best_model.h5\n"
     ]
    },
    {
     "name": "stderr",
     "output_type": "stream",
     "text": [
      "C:\\Users\\nikhi\\anaconda3\\lib\\site-packages\\keras\\src\\engine\\training.py:3000: UserWarning: You are saving your model as an HDF5 file via `model.save()`. This file format is considered legacy. We recommend using instead the native Keras format, e.g. `model.save('my_model.keras')`.\n",
      "  saving_api.save_model(\n"
     ]
    },
    {
     "name": "stdout",
     "output_type": "stream",
     "text": [
      "288/288 [==============================] - 663s 2s/step - loss: 1.0735 - accuracy: 0.5593 - val_loss: 1.5557 - val_accuracy: 0.6457 - lr: 5.0000e-05\n",
      "Epoch 2/50\n",
      "288/288 [==============================] - ETA: 0s - loss: 1.0473 - accuracy: 0.5418\n",
      "Epoch 2: val_loss improved from 1.55566 to 1.47112, saving model to best_model.h5\n",
      "288/288 [==============================] - 900s 3s/step - loss: 1.0473 - accuracy: 0.5418 - val_loss: 1.4711 - val_accuracy: 0.6758 - lr: 5.0000e-05\n",
      "Epoch 3/50\n",
      "288/288 [==============================] - ETA: 0s - loss: 1.0442 - accuracy: 0.5658\n",
      "Epoch 3: val_loss did not improve from 1.47112\n",
      "288/288 [==============================] - 1139s 4s/step - loss: 1.0442 - accuracy: 0.5658 - val_loss: 1.4973 - val_accuracy: 0.6586 - lr: 5.0000e-05\n",
      "Epoch 4/50\n",
      "288/288 [==============================] - ETA: 0s - loss: 1.0109 - accuracy: 0.5604\n",
      "Epoch 4: val_loss improved from 1.47112 to 1.37766, saving model to best_model.h5\n",
      "288/288 [==============================] - 618s 2s/step - loss: 1.0109 - accuracy: 0.5604 - val_loss: 1.3777 - val_accuracy: 0.6573 - lr: 5.0000e-05\n",
      "Epoch 5/50\n",
      "288/288 [==============================] - ETA: 0s - loss: 0.9993 - accuracy: 0.5661\n",
      "Epoch 5: val_loss did not improve from 1.37766\n",
      "288/288 [==============================] - 638s 2s/step - loss: 0.9993 - accuracy: 0.5661 - val_loss: 1.4031 - val_accuracy: 0.6947 - lr: 5.0000e-05\n",
      "Epoch 6/50\n",
      "288/288 [==============================] - ETA: 0s - loss: 0.9960 - accuracy: 0.5583\n",
      "Epoch 6: val_loss did not improve from 1.37766\n",
      "288/288 [==============================] - 716s 2s/step - loss: 0.9960 - accuracy: 0.5583 - val_loss: 1.4095 - val_accuracy: 0.6515 - lr: 5.0000e-05\n"
     ]
    }
   ],
   "source": [
    "# Callbacks\n",
    "callbacks_list = [\n",
    "    callbacks.EarlyStopping(\n",
    "        monitor='val_loss',\n",
    "        patience=2,\n",
    "        restore_best_weights=True\n",
    "    ),\n",
    "    callbacks.ReduceLROnPlateau(\n",
    "        monitor='val_loss',\n",
    "        factor=0.2,\n",
    "        patience=5,\n",
    "        min_lr=MIN_LR,\n",
    "        verbose=1\n",
    "    ),\n",
    "    callbacks.ModelCheckpoint(\n",
    "        'best_model.h5',\n",
    "        monitor='val_loss',\n",
    "        save_best_only=True,\n",
    "        mode='min',\n",
    "        verbose=1\n",
    "    )\n",
    "]\n",
    "\n",
    "# Train model\n",
    "history = model.fit(\n",
    "    train_dataset,\n",
    "    epochs=EPOCHS,\n",
    "    validation_data=val_dataset,\n",
    "    callbacks=callbacks_list,\n",
    "    class_weight=class_weights,\n",
    "    verbose=1\n",
    ")"
   ]
  },
  {
   "cell_type": "code",
   "execution_count": 8,
   "id": "e105be32",
   "metadata": {},
   "outputs": [
    {
     "data": {
      "image/png": "[encoded data removed]",
      "text/plain": [
       "<Figure size 1080x360 with 2 Axes>"
      ]
     },
     "metadata": {},
     "output_type": "display_data"
    },
    {
     "name": "stdout",
     "output_type": "stream",
     "text": [
      "11/11 [==============================] - 14s 1s/step - loss: 1.1214 - accuracy: 0.7182\n",
      "\n",
      "Final Test Results:\n",
      "Test Loss: 1.1214\n",
      "Test Accuracy: 0.7182\n"
     ]
    }
   ],
   "source": [
    "# Visualization\n",
    "plt.style.use('seaborn')\n",
    "fig = plt.figure(figsize=(15, 5))\n",
    "\n",
    "# Plot 1: Training and Validation Accuracy\n",
    "plt.subplot(1, 2, 1)\n",
    "plt.plot(history.history['accuracy'], label='Train')\n",
    "plt.plot(history.history['val_accuracy'], label='Validation', linestyle='--')\n",
    "plt.title('Model Accuracy')\n",
    "plt.xlabel('Epoch')\n",
    "plt.ylabel('Accuracy')\n",
    "plt.legend()\n",
    "plt.grid(True)\n",
    "\n",
    "# Plot 2: Training and Validation Loss\n",
    "plt.subplot(1, 2, 2)\n",
    "plt.plot(history.history['loss'], label='Train')\n",
    "plt.plot(history.history['val_loss'], label='Validation', linestyle='--')\n",
    "plt.title('Model Loss')\n",
    "plt.xlabel('Epoch')\n",
    "plt.ylabel('Loss')\n",
    "plt.legend()\n",
    "plt.grid(True)\n",
    "\n",
    "plt.tight_layout()\n",
    "plt.show()\n",
    "\n",
    "# Evaluate on test set\n",
    "test_dataset = test_dataset.batch(BATCH_SIZE)\n",
    "test_loss, test_accuracy = model.evaluate(test_dataset)\n",
    "print(f'\\nFinal Test Results:')\n",
    "print(f'Test Loss: {test_loss:.4f}')\n",
    "print(f'Test Accuracy: {test_accuracy:.4f}')"
   ]
  }
 ],
 "metadata": {
  "kernelspec": {
   "display_name": "Python 3 (ipykernel)",
   "language": "python",
   "name": "python3"
  },
  "language_info": {
   "codemirror_mode": {
    "name": "ipython",
    "version": 3
   },
   "file_extension": ".py",
   "mimetype": "text/x-python",
   "name": "python",
   "nbconvert_exporter": "python",
   "pygments_lexer": "ipython3",
   "version": "3.9.12"
  }
 },
 "nbformat": 4,
 "nbformat_minor": 5
}
